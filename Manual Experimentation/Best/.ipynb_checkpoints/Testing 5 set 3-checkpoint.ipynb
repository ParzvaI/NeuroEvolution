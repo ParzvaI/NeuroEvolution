{
 "cells": [
  {
   "cell_type": "code",
   "execution_count": 1,
   "id": "f2619b40",
   "metadata": {},
   "outputs": [],
   "source": [
    "import numpy as np\n",
    "import torch\n",
    "from torchvision.datasets import mnist\n",
    "from torch.nn import CrossEntropyLoss\n",
    "from torch.optim import SGD\n",
    "from torch.utils.data import DataLoader\n",
    "from torchvision.transforms import ToTensor"
   ]
  },
  {
   "cell_type": "code",
   "execution_count": 2,
   "id": "c9fa77d8",
   "metadata": {},
   "outputs": [],
   "source": [
    "import time\n",
    "batch_size=256\n",
    "test_dataset = mnist.MNIST(root='../../test', train=False, transform=ToTensor())\n",
    "test_loader = DataLoader(test_dataset, batch_size=batch_size)\n",
    "def calc():\n",
    "    all_correct_num = 0\n",
    "    all_sample_num = 0\n",
    "    model.eval()\n",
    "    t_ls=[]\n",
    "    fps_ls=[]\n",
    "    for idx, (test_x, test_label) in enumerate(test_loader):\n",
    "        start = time.time()\n",
    "        predict_y = model(test_x.float()).detach()\n",
    "        end = time.time()\n",
    "        total_time = (end - start)\n",
    "        if total_time!=0:\n",
    "            fps=1/(total_time)\n",
    "            fps_ls.append(fps)\n",
    "        t_ls.append(total_time)\n",
    "        predict_y = np.argmax(predict_y, axis=-1)\n",
    "        current_correct_num = predict_y == test_label\n",
    "        all_correct_num += np.sum(current_correct_num.numpy(), axis=-1)\n",
    "        all_sample_num += current_correct_num.shape[0]\n",
    "    t=sum(t_ls)\n",
    "    fps=sum(fps_ls)/len(fps_ls)\n",
    "    avg_time=t/len(t_ls)\n",
    "    acc = all_correct_num / all_sample_num\n",
    "    return t,avg_time,fps,acc"
   ]
  },
  {
   "cell_type": "code",
   "execution_count": 5,
   "id": "ccdeaa02",
   "metadata": {},
   "outputs": [
    {
     "data": {
      "text/plain": [
       "(0.0630178451538086, 0.0015754461288452148, 720.6112634105057, 0.9772)"
      ]
     },
     "execution_count": 5,
     "metadata": {},
     "output_type": "execute_result"
    }
   ],
   "source": [
    "model=torch.load(\"mnist_0.97720.pkl\")\n",
    "calc()"
   ]
  },
  {
   "cell_type": "code",
   "execution_count": 6,
   "id": "f90745bc",
   "metadata": {
    "scrolled": false
   },
   "outputs": [
    {
     "name": "stdout",
     "output_type": "stream",
     "text": [
      "----------------------------------------------------------------\n",
      "        Layer (type)               Output Shape         Param #\n",
      "================================================================\n",
      "            Conv2d-1            [-1, 4, 13, 13]             104\n",
      "              ReLU-2            [-1, 4, 13, 13]               0\n",
      "         MaxPool2d-3              [-1, 4, 6, 6]               0\n",
      "            Conv2d-4             [-1, 10, 2, 2]           1,010\n",
      "              ReLU-5             [-1, 10, 2, 2]               0\n",
      "            Linear-6                   [-1, 30]           1,230\n",
      "              ReLU-7                   [-1, 30]               0\n",
      "            Linear-8                   [-1, 10]             310\n",
      "              ReLU-9                   [-1, 10]               0\n",
      "================================================================\n",
      "Total params: 2,654\n",
      "Trainable params: 2,654\n",
      "Non-trainable params: 0\n",
      "----------------------------------------------------------------\n",
      "Input size (MB): 0.00\n",
      "Forward/backward pass size (MB): 0.01\n",
      "Params size (MB): 0.01\n",
      "Estimated Total Size (MB): 0.03\n",
      "----------------------------------------------------------------\n"
     ]
    }
   ],
   "source": [
    "from torchsummary import summary\n",
    "summary(model,(1, 28, 28))"
   ]
  },
  {
   "cell_type": "code",
   "execution_count": 21,
   "id": "f83bdc91",
   "metadata": {},
   "outputs": [
    {
     "name": "stdout",
     "output_type": "stream",
     "text": [
      "5304.704833493355 0.988399999999999\n"
     ]
    }
   ],
   "source": [
    "s=0\n",
    "a=0\n",
    "for i in range(100):\n",
    "    temp=calc()\n",
    "    s+=temp[1]\n",
    "    a+=temp[2]\n",
    "print(s/100,a/100)"
   ]
  },
  {
   "cell_type": "code",
   "execution_count": 10,
   "id": "5aafcd63",
   "metadata": {},
   "outputs": [
    {
     "data": {
      "text/plain": [
       "22.52614410000001"
      ]
     },
     "execution_count": 10,
     "metadata": {},
     "output_type": "execute_result"
    }
   ],
   "source": [
    "161.709359-139.1832149"
   ]
  },
  {
   "cell_type": "code",
   "execution_count": 16,
   "id": "44191d0c",
   "metadata": {},
   "outputs": [
    {
     "data": {
      "text/plain": [
       "143.74"
      ]
     },
     "execution_count": 16,
     "metadata": {},
     "output_type": "execute_result"
    }
   ],
   "source": [
    "round((232.4416036/161.709359)*100,2)"
   ]
  },
  {
   "cell_type": "code",
   "execution_count": null,
   "id": "b20b1819",
   "metadata": {},
   "outputs": [],
   "source": [
    "def fitness():\n",
    "        accuracies = []\n",
    "        parameters = []\n",
    "        throughputs = []\n",
    "        all_correct_num = 0\n",
    "        all_sample_num = 0\n",
    "        model = model.to(\"cpu\")\n",
    "        model.eval()\n",
    "        for idx, (test_x, test_label) in enumerate(test_loader):\n",
    "            test_x = test_x.to(self.device_test)\n",
    "\n",
    "            predict_y = model(test_x.float()).cpu().detach()\n",
    "\n",
    "\n",
    "            predict_y = np.argmax(predict_y, axis=-1)\n",
    "            current_correct_num = predict_y == test_label\n",
    "            all_correct_num += np.sum(current_correct_num.numpy(), axis=-1)\n",
    "            all_sample_num += current_correct_num.shape[0]\n",
    "\n",
    "            input_names = [\"MNIST\"]\n",
    "            output_names = [ \"output\" ]\n",
    "\n",
    "            torch.onnx.export(model, test_x, os.path.join(self.exp_dir, \"onnx_weights\", \"lenet.onnx\"), verbose=True, \n",
    "                                input_names=input_names, output_names=output_names)\n",
    "            output = os.system(\"benchmark_app -m \"+os.path.join(self.exp_dir, \"onnx_weights\", \"lenet.onnx\") + \" > output.txt\")\n",
    "            \n",
    "            with open('output.txt', 'r') as f:\n",
    "                content = f.readlines()\n",
    "\n",
    "            throughput = content[-1]\n",
    "            throughput = throughput.split(' ')\n",
    "            throughput = float(throughput[1])\n",
    "            throughputs.append(throughput)\n",
    "            \n",
    "            print(throughput)"
   ]
  }
 ],
 "metadata": {
  "kernelspec": {
   "display_name": "Python 3 (ipykernel)",
   "language": "python",
   "name": "python3"
  },
  "language_info": {
   "codemirror_mode": {
    "name": "ipython",
    "version": 3
   },
   "file_extension": ".py",
   "mimetype": "text/x-python",
   "name": "python",
   "nbconvert_exporter": "python",
   "pygments_lexer": "ipython3",
   "version": "3.8.5"
  },
  "vscode": {
   "interpreter": {
    "hash": "f29ec887a88d33b89247dbf3061b80bf833fadf8651ae19d3f46bd6a4409b44c"
   }
  }
 },
 "nbformat": 4,
 "nbformat_minor": 5
}
