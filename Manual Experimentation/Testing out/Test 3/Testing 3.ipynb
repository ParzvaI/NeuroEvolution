{
 "cells": [
  {
   "cell_type": "code",
   "execution_count": 1,
   "metadata": {},
   "outputs": [],
   "source": [
    "import numpy as np\n",
    "import torch\n",
    "from torchvision.datasets import mnist\n",
    "from torch.nn import CrossEntropyLoss\n",
    "from torch.optim import SGD\n",
    "from torch.utils.data import DataLoader\n",
    "from torchvision.transforms import ToTensor"
   ]
  },
  {
   "cell_type": "code",
   "execution_count": 2,
   "metadata": {},
   "outputs": [],
   "source": [
    "import time\n",
    "batch_size=256\n",
    "test_dataset = mnist.MNIST(root='../../test', train=False, transform=ToTensor())\n",
    "test_loader = DataLoader(test_dataset, batch_size=batch_size)\n",
    "def calc():\n",
    "    all_correct_num = 0\n",
    "    all_sample_num = 0\n",
    "    model.eval()\n",
    "    t_ls=[]\n",
    "    fps_ls=[]\n",
    "    for idx, (test_x, test_label) in enumerate(test_loader):\n",
    "        start = time.time()\n",
    "        predict_y = model(test_x.float()).detach()\n",
    "        end = time.time()\n",
    "        total_time = (end - start)\n",
    "        fps=1/(total_time)\n",
    "        fps_ls.append(fps)\n",
    "        t_ls.append(total_time)\n",
    "        predict_y = np.argmax(predict_y, axis=-1)\n",
    "        current_correct_num = predict_y == test_label\n",
    "        all_correct_num += np.sum(current_correct_num.numpy(), axis=-1)\n",
    "        all_sample_num += current_correct_num.shape[0]\n",
    "    t=sum(t_ls)\n",
    "    fps=sum(fps_ls)/len(fps_ls)\n",
    "    avg_time=t/len(t_ls)\n",
    "    acc = all_correct_num / all_sample_num\n",
    "    return t,avg_time,fps,acc"
   ]
  },
  {
   "cell_type": "code",
   "execution_count": 3,
   "metadata": {},
   "outputs": [
    {
     "data": {
      "text/plain": [
       "(0.7101612091064453, 0.017754030227661134, 81.83874632893446, 0.9906)"
      ]
     },
     "execution_count": 3,
     "metadata": {},
     "output_type": "execute_result"
    }
   ],
   "source": [
    "model=torch.load(\"mnist_0.99.pkl\")\n",
    "calc()"
   ]
  },
  {
   "cell_type": "code",
   "execution_count": 4,
   "metadata": {},
   "outputs": [
    {
     "name": "stdout",
     "output_type": "stream",
     "text": [
      "----------------------------------------------------------------\n",
      "        Layer (type)               Output Shape         Param #\n",
      "================================================================\n",
      "            Conv2d-1           [-1, 10, 25, 25]             170\n",
      "              ReLU-2           [-1, 10, 25, 25]               0\n",
      "         MaxPool2d-3           [-1, 10, 12, 12]               0\n",
      "            Conv2d-4             [-1, 22, 8, 8]           5,522\n",
      "              ReLU-5             [-1, 22, 8, 8]               0\n",
      "         MaxPool2d-6             [-1, 22, 4, 4]               0\n",
      "            Linear-7                  [-1, 120]          42,360\n",
      "              ReLU-8                  [-1, 120]               0\n",
      "            Linear-9                   [-1, 84]          10,164\n",
      "             ReLU-10                   [-1, 84]               0\n",
      "           Linear-11                   [-1, 10]             850\n",
      "             ReLU-12                   [-1, 10]               0\n",
      "================================================================\n",
      "Total params: 59,066\n",
      "Trainable params: 59,066\n",
      "Non-trainable params: 0\n",
      "----------------------------------------------------------------\n",
      "Input size (MB): 0.00\n",
      "Forward/backward pass size (MB): 0.13\n",
      "Params size (MB): 0.23\n",
      "Estimated Total Size (MB): 0.36\n",
      "----------------------------------------------------------------\n"
     ]
    }
   ],
   "source": [
    "from torchsummary import summary\n",
    "summary(model,(1, 28, 28))"
   ]
  },
  {
   "cell_type": "code",
   "execution_count": 8,
   "metadata": {},
   "outputs": [
    {
     "name": "stdout",
     "output_type": "stream",
     "text": [
      "7746.436803454538 0.9906000000000005\n"
     ]
    }
   ],
   "source": [
    "s=0\n",
    "a=0\n",
    "for i in range(100):\n",
    "    temp=calc()\n",
    "    s+=temp[1]\n",
    "    a+=temp[2]\n",
    "print(s/100,a/100)"
   ]
  },
  {
   "cell_type": "code",
   "execution_count": 9,
   "metadata": {},
   "outputs": [
    {
     "name": "stdout",
     "output_type": "stream",
     "text": [
      "1.2826747465133668 7803.0628196147945 0.9906000000000005\n"
     ]
    }
   ],
   "source": [
    "s=0\n",
    "a=0\n",
    "s1=0\n",
    "for i in range(100):\n",
    "    temp=calc()\n",
    "    s1+=temp[0]\n",
    "    s+=temp[1]\n",
    "    a+=temp[2]\n",
    "print(s1/100,s/100,a/100)"
   ]
  },
  {
   "cell_type": "code",
   "execution_count": 10,
   "metadata": {},
   "outputs": [
    {
     "data": {
      "text/plain": [
       "31.184834743749406"
      ]
     },
     "execution_count": 10,
     "metadata": {},
     "output_type": "execute_result"
    }
   ],
   "source": [
    "1/(1.2826747465133668/40)"
   ]
  }
 ],
 "metadata": {
  "kernelspec": {
   "display_name": "Python 3",
   "language": "python",
   "name": "python3"
  },
  "language_info": {
   "codemirror_mode": {
    "name": "ipython",
    "version": 3
   },
   "file_extension": ".py",
   "mimetype": "text/x-python",
   "name": "python",
   "nbconvert_exporter": "python",
   "pygments_lexer": "ipython3",
   "version": "3.8.5"
  }
 },
 "nbformat": 4,
 "nbformat_minor": 5
}
