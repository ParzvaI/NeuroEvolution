{
 "cells": [
  {
   "cell_type": "code",
   "execution_count": 1,
   "id": "542a8ea3",
   "metadata": {},
   "outputs": [],
   "source": [
    "import numpy as np\n",
    "import torch\n",
    "from torchvision.datasets import mnist\n",
    "from torch.nn import CrossEntropyLoss\n",
    "from torch.optim import SGD\n",
    "from torch.utils.data import DataLoader\n",
    "from torchvision.transforms import ToTensor"
   ]
  },
  {
   "cell_type": "code",
   "execution_count": 2,
   "id": "ee0761ea",
   "metadata": {},
   "outputs": [],
   "source": [
    "import time\n",
    "def calc():\n",
    "    batch_size=256\n",
    "    test_dataset = mnist.MNIST(root='../../test', train=False, transform=ToTensor())\n",
    "    test_loader = DataLoader(test_dataset, batch_size=batch_size)\n",
    "    all_correct_num = 0\n",
    "    all_sample_num = 0\n",
    "    model.eval()\n",
    "    start = time.time()\n",
    "    for idx, (test_x, test_label) in enumerate(test_loader):\n",
    "        predict_y = model(test_x.float()).detach()\n",
    "        predict_y = np.argmax(predict_y, axis=-1)\n",
    "        current_correct_num = predict_y == test_label\n",
    "        all_correct_num += np.sum(current_correct_num.numpy(), axis=-1)\n",
    "        all_sample_num += current_correct_num.shape[0]\n",
    "    acc = all_correct_num / all_sample_num\n",
    "    end = time.time()\n",
    "    total_time = end - start\n",
    "    return total_time,acc"
   ]
  },
  {
   "cell_type": "code",
   "execution_count": 3,
   "id": "e8b07380",
   "metadata": {},
   "outputs": [
    {
     "data": {
      "text/plain": [
       "(1.0572373867034912, 0.9914)"
      ]
     },
     "execution_count": 3,
     "metadata": {},
     "output_type": "execute_result"
    }
   ],
   "source": [
    "model=torch.load(\"m2_0.99.pkl\")\n",
    "calc()"
   ]
  },
  {
   "cell_type": "code",
   "execution_count": null,
   "id": "5ebda054",
   "metadata": {},
   "outputs": [],
   "source": [
    "s=0\n",
    "a=0\n",
    "for i in range(100):\n",
    "    temp=calc()\n",
    "    s+=temp[0]\n",
    "    a+=temp[1]\n",
    "print(s/100,a/100)"
   ]
  }
 ],
 "metadata": {
  "kernelspec": {
   "display_name": "Python 3 (ipykernel)",
   "language": "python",
   "name": "python3"
  },
  "language_info": {
   "codemirror_mode": {
    "name": "ipython",
    "version": 3
   },
   "file_extension": ".py",
   "mimetype": "text/x-python",
   "name": "python",
   "nbconvert_exporter": "python",
   "pygments_lexer": "ipython3",
   "version": "3.8.5"
  }
 },
 "nbformat": 4,
 "nbformat_minor": 5
}
