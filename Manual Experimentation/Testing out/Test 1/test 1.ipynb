{
 "cells": [
  {
   "cell_type": "code",
   "execution_count": 1,
   "metadata": {},
   "outputs": [],
   "source": [
    "import numpy as np\n",
    "import torch\n",
    "from torchvision.datasets import mnist\n",
    "from torch.nn import CrossEntropyLoss\n",
    "from torch.optim import SGD\n",
    "from torch.utils.data import DataLoader\n",
    "from torchvision.transforms import ToTensor"
   ]
  },
  {
   "cell_type": "code",
   "execution_count": 2,
   "metadata": {},
   "outputs": [],
   "source": [
    "import time\n",
    "batch_size=256\n",
    "test_dataset = mnist.MNIST(root='../../test', train=False, transform=ToTensor())\n",
    "test_loader = DataLoader(test_dataset, batch_size=batch_size)\n",
    "def calc():\n",
    "    all_correct_num = 0\n",
    "    all_sample_num = 0\n",
    "    model.eval()\n",
    "    t_ls=[]\n",
    "    fps_ls=[]\n",
    "    for idx, (test_x, test_label) in enumerate(test_loader):\n",
    "        start = time.time()\n",
    "        predict_y = model(test_x.float()).detach()\n",
    "        end = time.time()\n",
    "        total_time = (end - start)\n",
    "        fps=1/(total_time)\n",
    "        fps_ls.append(fps)\n",
    "        t_ls.append(total_time)\n",
    "        predict_y = np.argmax(predict_y, axis=-1)\n",
    "        current_correct_num = predict_y == test_label\n",
    "        all_correct_num += np.sum(current_correct_num.numpy(), axis=-1)\n",
    "        all_sample_num += current_correct_num.shape[0]\n",
    "    t=sum(t_ls)\n",
    "    fps=sum(fps_ls)/len(fps_ls)\n",
    "    avg_time=t/len(t_ls)\n",
    "    acc = all_correct_num / all_sample_num\n",
    "    return t,avg_time,fps,acc"
   ]
  },
  {
   "cell_type": "code",
   "execution_count": 3,
   "metadata": {},
   "outputs": [
    {
     "data": {
      "text/plain": [
       "(0.34807848930358887, 0.008701962232589722, 139.18321491972227, 0.9914)"
      ]
     },
     "execution_count": 3,
     "metadata": {},
     "output_type": "execute_result"
    }
   ],
   "source": [
    "model=torch.load(\"m2_0.99.pkl\")\n",
    "calc()"
   ]
  },
  {
   "cell_type": "code",
   "execution_count": 4,
   "metadata": {},
   "outputs": [
    {
     "name": "stdout",
     "output_type": "stream",
     "text": [
      "----------------------------------------------------------------\n",
      "        Layer (type)               Output Shape         Param #\n",
      "================================================================\n",
      "            Conv2d-1            [-1, 7, 22, 22]             350\n",
      "              ReLU-2            [-1, 7, 22, 22]               0\n",
      "         MaxPool2d-3            [-1, 7, 11, 11]               0\n",
      "            Conv2d-4             [-1, 18, 9, 9]           1,152\n",
      "              ReLU-5             [-1, 18, 9, 9]               0\n",
      "         MaxPool2d-6             [-1, 18, 4, 4]               0\n",
      "            Linear-7                  [-1, 120]          34,680\n",
      "              ReLU-8                  [-1, 120]               0\n",
      "            Linear-9                   [-1, 84]          10,164\n",
      "             ReLU-10                   [-1, 84]               0\n",
      "           Linear-11                   [-1, 10]             850\n",
      "             ReLU-12                   [-1, 10]               0\n",
      "================================================================\n",
      "Total params: 47,196\n",
      "Trainable params: 47,196\n",
      "Non-trainable params: 0\n",
      "----------------------------------------------------------------\n",
      "Input size (MB): 0.00\n",
      "Forward/backward pass size (MB): 0.09\n",
      "Params size (MB): 0.18\n",
      "Estimated Total Size (MB): 0.27\n",
      "----------------------------------------------------------------\n"
     ]
    }
   ],
   "source": [
    "from torchsummary import summary\n",
    "summary(model,(1, 28, 28))"
   ]
  },
  {
   "cell_type": "code",
   "execution_count": 9,
   "metadata": {},
   "outputs": [
    {
     "name": "stdout",
     "output_type": "stream",
     "text": [
      "9471.409759577678 0.9913999999999991\n"
     ]
    }
   ],
   "source": [
    "s=0\n",
    "a=0\n",
    "for i in range(100):\n",
    "    temp=calc()\n",
    "    s+=temp[1]\n",
    "    a+=temp[2]\n",
    "print(s/100,a/100)"
   ]
  },
  {
   "cell_type": "code",
   "execution_count": 11,
   "metadata": {},
   "outputs": [
    {
     "name": "stdout",
     "output_type": "stream",
     "text": [
      "1.063879210948944 9415.690773965602 0.9913999999999991\n"
     ]
    }
   ],
   "source": [
    "s=0\n",
    "a=0\n",
    "s1=0\n",
    "for i in range(100):\n",
    "    temp=calc()\n",
    "    s1+=temp[0]\n",
    "    s+=temp[1]\n",
    "    a+=temp[2]\n",
    "print(s1/100,s/100,a/100)"
   ]
  },
  {
   "cell_type": "code",
   "execution_count": 12,
   "metadata": {},
   "outputs": [
    {
     "data": {
      "text/plain": [
       "37.598253249371574"
      ]
     },
     "execution_count": 12,
     "metadata": {},
     "output_type": "execute_result"
    }
   ],
   "source": [
    "1/(1.063879210948944/40)"
   ]
  },
  {
   "cell_type": "code",
   "execution_count": null,
   "metadata": {},
   "outputs": [],
   "source": []
  }
 ],
 "metadata": {
  "kernelspec": {
   "display_name": "Python 3",
   "language": "python",
   "name": "python3"
  },
  "language_info": {
   "codemirror_mode": {
    "name": "ipython",
    "version": 3
   },
   "file_extension": ".py",
   "mimetype": "text/x-python",
   "name": "python",
   "nbconvert_exporter": "python",
   "pygments_lexer": "ipython3",
   "version": "3.8.5"
  }
 },
 "nbformat": 4,
 "nbformat_minor": 5
}
