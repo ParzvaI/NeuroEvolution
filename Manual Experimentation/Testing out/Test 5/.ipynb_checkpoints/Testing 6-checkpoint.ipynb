{
 "cells": [
  {
   "cell_type": "code",
   "execution_count": 1,
   "id": "542a8ea3",
   "metadata": {},
   "outputs": [],
   "source": [
    "import numpy as np\n",
    "import torch\n",
    "from torchvision.datasets import mnist\n",
    "from torch.nn import CrossEntropyLoss\n",
    "from torch.optim import SGD\n",
    "from torch.utils.data import DataLoader\n",
    "from torchvision.transforms import ToTensor"
   ]
  },
  {
   "cell_type": "code",
   "execution_count": 2,
   "id": "ee0761ea",
   "metadata": {},
   "outputs": [],
   "source": [
    "import time\n",
    "def calc():\n",
    "    batch_size=256\n",
    "    test_dataset = mnist.MNIST(root='../../test', train=False, transform=ToTensor())\n",
    "    test_loader = DataLoader(test_dataset, batch_size=batch_size)\n",
    "    all_correct_num = 0\n",
    "    all_sample_num = 0\n",
    "    model.eval()\n",
    "    start = time.time()\n",
    "    for idx, (test_x, test_label) in enumerate(test_loader):\n",
    "        predict_y = model(test_x.float()).detach()\n",
    "        predict_y = np.argmax(predict_y, axis=-1)\n",
    "        current_correct_num = predict_y == test_label\n",
    "        all_correct_num += np.sum(current_correct_num.numpy(), axis=-1)\n",
    "        all_sample_num += current_correct_num.shape[0]\n",
    "    acc = all_correct_num / all_sample_num\n",
    "    end = time.time()\n",
    "    total_time = (end - start)\n",
    "    fps=1/(total_time/len(test_dataset))\n",
    "    return total_time,fps,acc"
   ]
  },
  {
   "cell_type": "code",
   "execution_count": 3,
   "id": "f2c9434d",
   "metadata": {},
   "outputs": [
    {
     "data": {
      "text/plain": [
       "(0.9632172584533691, 10381.873780020229, 0.9839)"
      ]
     },
     "execution_count": 3,
     "metadata": {},
     "output_type": "execute_result"
    }
   ],
   "source": [
    "model=torch.load(\"mnist_0.98390.pkl\")\n",
    "calc()"
   ]
  },
  {
   "cell_type": "code",
   "execution_count": 4,
   "id": "c5a71bca",
   "metadata": {},
   "outputs": [
    {
     "name": "stdout",
     "output_type": "stream",
     "text": [
      "----------------------------------------------------------------\n",
      "        Layer (type)               Output Shape         Param #\n",
      "================================================================\n",
      "            Conv2d-1            [-1, 5, 22, 22]             250\n",
      "              ReLU-2            [-1, 5, 22, 22]               0\n",
      "         MaxPool2d-3            [-1, 5, 11, 11]               0\n",
      "            Conv2d-4              [-1, 8, 7, 7]           1,008\n",
      "              ReLU-5              [-1, 8, 7, 7]               0\n",
      "         MaxPool2d-6              [-1, 8, 3, 3]               0\n",
      "            Linear-7                   [-1, 20]           1,460\n",
      "              ReLU-8                   [-1, 20]               0\n",
      "            Linear-9                   [-1, 10]             210\n",
      "             ReLU-10                   [-1, 10]               0\n",
      "================================================================\n",
      "Total params: 2,928\n",
      "Trainable params: 2,928\n",
      "Non-trainable params: 0\n",
      "----------------------------------------------------------------\n",
      "Input size (MB): 0.00\n",
      "Forward/backward pass size (MB): 0.05\n",
      "Params size (MB): 0.01\n",
      "Estimated Total Size (MB): 0.06\n",
      "----------------------------------------------------------------\n"
     ]
    }
   ],
   "source": [
    "from torchsummary import summary\n",
    "summary(model,(1, 28, 28))"
   ]
  },
  {
   "cell_type": "code",
   "execution_count": 21,
   "id": "5ebda054",
   "metadata": {},
   "outputs": [
    {
     "name": "stdout",
     "output_type": "stream",
     "text": [
      "5304.704833493355 0.988399999999999\n"
     ]
    }
   ],
   "source": [
    "s=0\n",
    "a=0\n",
    "for i in range(100):\n",
    "    temp=calc()\n",
    "    s+=temp[1]\n",
    "    a+=temp[2]\n",
    "print(s/100,a/100)"
   ]
  }
 ],
 "metadata": {
  "kernelspec": {
   "display_name": "Python 3 (ipykernel)",
   "language": "python",
   "name": "python3"
  },
  "language_info": {
   "codemirror_mode": {
    "name": "ipython",
    "version": 3
   },
   "file_extension": ".py",
   "mimetype": "text/x-python",
   "name": "python",
   "nbconvert_exporter": "python",
   "pygments_lexer": "ipython3",
   "version": "3.8.5"
  }
 },
 "nbformat": 4,
 "nbformat_minor": 5
}
