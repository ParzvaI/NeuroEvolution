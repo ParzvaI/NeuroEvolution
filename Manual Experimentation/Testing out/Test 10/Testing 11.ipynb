{
 "cells": [
  {
   "cell_type": "code",
   "execution_count": 1,
   "metadata": {},
   "outputs": [],
   "source": [
    "import numpy as np\n",
    "import torch\n",
    "from torchvision.datasets import mnist\n",
    "from torch.nn import CrossEntropyLoss\n",
    "from torch.optim import SGD\n",
    "from torch.utils.data import DataLoader\n",
    "from torchvision.transforms import ToTensor"
   ]
  },
  {
   "cell_type": "code",
   "execution_count": 2,
   "metadata": {},
   "outputs": [],
   "source": [
    "import time\n",
    "batch_size=256\n",
    "test_dataset = mnist.MNIST(root='../../test', train=False, transform=ToTensor())\n",
    "test_loader = DataLoader(test_dataset, batch_size=batch_size)\n",
    "def calc():\n",
    "    all_correct_num = 0\n",
    "    all_sample_num = 0\n",
    "    model.eval()\n",
    "    t_ls=[]\n",
    "    fps_ls=[]\n",
    "    for idx, (test_x, test_label) in enumerate(test_loader):\n",
    "        start = time.time()\n",
    "        predict_y = model(test_x.float()).detach()\n",
    "        end = time.time()\n",
    "        total_time = (end - start)\n",
    "        if total_time!=0:\n",
    "            fps=1/(total_time)\n",
    "            fps_ls.append(fps)\n",
    "        t_ls.append(total_time)\n",
    "        predict_y = np.argmax(predict_y, axis=-1)\n",
    "        current_correct_num = predict_y == test_label\n",
    "        all_correct_num += np.sum(current_correct_num.numpy(), axis=-1)\n",
    "        all_sample_num += current_correct_num.shape[0]\n",
    "    t=sum(t_ls)\n",
    "    fps=sum(fps_ls)/len(fps_ls)\n",
    "    avg_time=t/len(t_ls)\n",
    "    acc = all_correct_num / all_sample_num\n",
    "    return t,avg_time,fps,acc"
   ]
  },
  {
   "cell_type": "code",
   "execution_count": 8,
   "metadata": {},
   "outputs": [
    {
     "data": {
      "text/plain": [
       "(0.18804407119750977, 0.004701101779937744, 229.94763159564596, 0.9813)"
      ]
     },
     "execution_count": 8,
     "metadata": {},
     "output_type": "execute_result"
    }
   ],
   "source": [
    "model=torch.load(\"mnist_0.98130.pkl\")\n",
    "calc()"
   ]
  },
  {
   "cell_type": "code",
   "execution_count": 7,
   "metadata": {},
   "outputs": [
    {
     "name": "stdout",
     "output_type": "stream",
     "text": [
      "----------------------------------------------------------------\n",
      "        Layer (type)               Output Shape         Param #\n",
      "================================================================\n",
      "            Conv2d-1            [-1, 5, 22, 22]             250\n",
      "              ReLU-2            [-1, 5, 22, 22]               0\n",
      "         MaxPool2d-3            [-1, 5, 11, 11]               0\n",
      "            Conv2d-4              [-1, 7, 7, 7]             882\n",
      "              ReLU-5              [-1, 7, 7, 7]               0\n",
      "         MaxPool2d-6              [-1, 7, 3, 3]               0\n",
      "            Linear-7                   [-1, 15]             960\n",
      "              ReLU-8                   [-1, 15]               0\n",
      "            Linear-9                   [-1, 10]             160\n",
      "             ReLU-10                   [-1, 10]               0\n",
      "================================================================\n",
      "Total params: 2,252\n",
      "Trainable params: 2,252\n",
      "Non-trainable params: 0\n",
      "----------------------------------------------------------------\n",
      "Input size (MB): 0.00\n",
      "Forward/backward pass size (MB): 0.05\n",
      "Params size (MB): 0.01\n",
      "Estimated Total Size (MB): 0.06\n",
      "----------------------------------------------------------------\n"
     ]
    }
   ],
   "source": [
    "from torchsummary import summary\n",
    "summary(model,(1, 28, 28))"
   ]
  },
  {
   "cell_type": "code",
   "execution_count": 21,
   "metadata": {},
   "outputs": [
    {
     "name": "stdout",
     "output_type": "stream",
     "text": [
      "5304.704833493355 0.988399999999999\n"
     ]
    }
   ],
   "source": [
    "s=0\n",
    "a=0\n",
    "for i in range(100):\n",
    "    temp=calc()\n",
    "    s+=temp[1]\n",
    "    a+=temp[2]\n",
    "print(s/100,a/100)"
   ]
  }
 ],
 "metadata": {
  "kernelspec": {
   "display_name": "Python 3",
   "language": "python",
   "name": "python3"
  },
  "language_info": {
   "codemirror_mode": {
    "name": "ipython",
    "version": 3
   },
   "file_extension": ".py",
   "mimetype": "text/x-python",
   "name": "python",
   "nbconvert_exporter": "python",
   "pygments_lexer": "ipython3",
   "version": "3.8.5"
  }
 },
 "nbformat": 4,
 "nbformat_minor": 5
}
